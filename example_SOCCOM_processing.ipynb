{
 "cells": [
  {
   "cell_type": "code",
   "execution_count": 1,
   "metadata": {},
   "outputs": [],
   "source": [
    "import xarray as xr\n",
    "import dask.array\n",
    "import numpy as np\n",
    "import pandas as pd\n",
    "import os\n",
    "## warnings\n",
    "import warnings\n",
    "warnings.filterwarnings('ignore')\n",
    "import logging\n",
    "logger = logging.getLogger()\n",
    "logger.setLevel(logging.CRITICAL)\n",
    "## plotting\n",
    "import matplotlib.pyplot as plt\n",
    "from matplotlib import gridspec\n",
    "import cartopy.crs as ccrs\n",
    "import cartopy.feature\n",
    "import matplotlib.path as mpath\n",
    "import matplotlib.ticker as mticker\n",
    "import cmocean.cm as cm"
   ]
  },
  {
   "cell_type": "code",
   "execution_count": 2,
   "metadata": {},
   "outputs": [],
   "source": [
    "LR_SOCCOM_dir = '/work/Ruth.Moorman/SOCCOM-floats/LR_SOCCOM_20200308/unprocessed_SOCCOM/'\n",
    "float_file_list = os.listdir(LR_SOCCOM_dir)"
   ]
  },
  {
   "cell_type": "code",
   "execution_count": 3,
   "metadata": {},
   "outputs": [
    {
     "data": {
      "text/plain": [
       "155"
      ]
     },
     "execution_count": 3,
     "metadata": {},
     "output_type": "execute_result"
    }
   ],
   "source": [
    "len(float_file_list) # number of individual SOCCOM .nc files"
   ]
  },
  {
   "cell_type": "code",
   "execution_count": 4,
   "metadata": {},
   "outputs": [
    {
     "name": "stdout",
     "output_type": "stream",
     "text": [
      "N_LEVEL:  750.0\n",
      "N_PROF:  14500.0\n"
     ]
    }
   ],
   "source": [
    "# below I interpolate onto a depth dimension, if you want to retain the depth differences, you'll want to fill a\n",
    "# blank, initialised array dimensions time, N_LEVEL, N_PROF, using the maximum N_LEVEL in the dataset\n",
    "N_LEVEL_len = np.empty(len(float_file_list))\n",
    "N_PROF_len = np.empty(len(float_file_list))\n",
    "NPARAMETER_len = np.empty(len(float_file_list))\n",
    "for i in range(len(N_LEVEL_len)):\n",
    "    file = xr.open_dataset(LR_SOCCOM_dir+float_file_list[i])\n",
    "    N_LEVEL_len[i] = len(file.N_LEVELS)\n",
    "    N_PROF_len[i] = len(file.N_PROF)\n",
    "    NPARAMETER_len[i] = len(file.NPARAMETER)\n",
    "print('N_LEVEL: ',np.max(N_LEVEL_len))\n",
    "print('N_PROF: ',np.sum(N_PROF_len))"
   ]
  },
  {
   "cell_type": "code",
   "execution_count": 5,
   "metadata": {},
   "outputs": [
    {
     "name": "stdout",
     "output_type": "stream",
     "text": [
      "['0037SOOCNQC.nc' '6091SOOCNQC.nc' '7557SOOCNQC.nc' '7567SOOCNQC.nc'\n",
      " '7613SOOCNQC.nc' '7614SOOCNQC.nc' '7652SOOCNQC.nc']\n"
     ]
    }
   ],
   "source": [
    "float_names = np.array(float_file_list)\n",
    "print(float_names[np.where(NPARAMETER_len <=40, True, False)]) ## these files do not contain the TALK/ DIC/ pCO2 variables\n",
    "carbon_float_names = float_names[np.where(NPARAMETER_len >40, True, False)] # alternate to float_names to be used for carbon variables"
   ]
  },
  {
   "cell_type": "code",
   "execution_count": 13,
   "metadata": {},
   "outputs": [],
   "source": [
    "def interpolated_SOCCOM_floats(variable, interp_depths, float_dir, float_names):\n",
    "    \"\"\"\n",
    "    Aggregates all SOCCOM float data in the filepath float_dir into a single xarray datastructure with dimensions \n",
    "    N_PROF and depth.\n",
    "    Note: float_dir must contain ONLY the float .nc files. This function will extract the full contents of the directory.\n",
    "    \n",
    "    depth_bin dimension is determined interpolating SOCCOM float data onto the input interp_depths dimension\n",
    "    using 4 interpolation methods: linear, nearest neighbour, cubic spline and quadratic spline (so later uncertainty \n",
    "    associated with the interpolation method may be quantified). Obviously you can adjust to remove some interpolation \n",
    "    methods if you just want one.\n",
    "    \n",
    "    Inputs:\n",
    "    variable is a string that is set to one of the following:\n",
    "    \n",
    "    Temperature\n",
    "    Salinity\n",
    "    Sigma_theta\n",
    "    Oxygen\n",
    "    Nitrate\n",
    "    Chl_a\n",
    "    POC\n",
    "    TALK\n",
    "    DIC\n",
    "    \n",
    "    interp_depths is a numpy array of the depth dimension one wants to interpolate onto\n",
    "    \n",
    "    float_dir is the directory containing the float .nc files\n",
    "    \n",
    "    float_names is an array of strings of the .nc file filenames (note some may need to be excluded in the case that a given file only contains a subset of variables)\n",
    "    \n",
    "    will return 4 DataArray structures associated with the 4 interpolation methods.\n",
    "    return tracer_linear, tracer_nearest_neighbour, tracer_cubic, tracer_quadratic\n",
    "    \n",
    "    (change function if using CANYON or MLR versions of TALK, DIC, pCO2, some names are different I think)\n",
    "    Note, not all floats have TALK/ DIC/ pCO2 values, may need different float_names for these (see 'carbon_float_names' in notebook)\n",
    "    Ruth Moorman, Princeton University, Mar 2020\n",
    "    \"\"\"\n",
    "        \n",
    "    ################################### initialise tracer array with first float ###################################\n",
    "    float_file = xr.open_dataset(float_dir+float_names[0])\n",
    "    float_lons = float_file.Lon.values\n",
    "    float_lats = float_file.Lat.values\n",
    "    float_times = float_file.JULD.values\n",
    "    float_nc = np.zeros(len(float_lons)).astype('str')\n",
    "    float_nc[:] = float_names[0]\n",
    "\n",
    "    if variable == 'Temperature':\n",
    "        tracer = float_file.Temperature\n",
    "        units = tracer.units\n",
    "        QC_mask = float_file.Temperature_QFA.where(float_file.Temperature_QFA ==0)+1 # code 0 is QC approved data\n",
    "        tracer = tracer * QC_mask\n",
    "    elif variable == 'Salinity':\n",
    "        tracer = float_file.Salinity\n",
    "        units = tracer.units\n",
    "        QC_mask = float_file.Salinity_QFA.where(float_file.Salinity_QFA ==0)+1 \n",
    "        tracer = tracer * QC_mask\n",
    "    elif variable == 'Sigma_theta':\n",
    "        tracer = float_file.Sigma_theta\n",
    "        units = tracer.units\n",
    "        QC_mask = float_file.Sigma_theta_QFA.where(float_file.Sigma_theta_QFA ==0)+1 \n",
    "        tracer = tracer * QC_mask\n",
    "    elif variable == 'Oxygen':\n",
    "        tracer = float_file.Oxygen\n",
    "        units = tracer.units\n",
    "        QC_mask = float_file.Oxygen_QFA.where(float_file.Oxygen_QFA ==0)+1 \n",
    "        tracer = tracer * QC_mask\n",
    "    elif variable == 'Nitrate':\n",
    "        tracer = float_file.Nitrate\n",
    "        units = tracer.units\n",
    "        QC_mask = float_file.Nitrate_QFA.where(float_file.Nitrate_QFA ==0)+1 \n",
    "        tracer = tracer * QC_mask\n",
    "        tracer = tracer.where(tracer >0) # there were negative concentrations, unsure how this wasn't picked up in the QC flag\n",
    "    elif variable == 'Chl_a':\n",
    "        tracer = float_file.Chl_a\n",
    "        units = tracer.units\n",
    "        QC_mask = float_file.Chl_a_QFA.where(float_file.Chl_a_QFA ==0)+1 \n",
    "        tracer = tracer * QC_mask\n",
    "    elif variable == 'POC':\n",
    "        tracer = float_file.POC\n",
    "        units = tracer.units\n",
    "        QC_mask = float_file.POC_QFA.where(float_file.POC_QFA ==0)+1 \n",
    "        tracer = tracer * QC_mask\n",
    "    elif variable == 'TALK':\n",
    "        tracer = float_file.TALK_LIAR\n",
    "        units = tracer.units\n",
    "        QC_mask = float_file.TALK_LIAR_QFA.where(float_file.TALK_LIAR_QFA ==0)+1 \n",
    "        tracer = tracer * QC_mask\n",
    "    elif variable == 'DIC':\n",
    "        tracer = float_file.DIC_LIAR\n",
    "        units = tracer.units\n",
    "        QC_mask = float_file.DIC_LIAR_QFA.where(float_file.DIC_LIAR_QFA ==0)+1 \n",
    "        tracer = tracer * QC_mask\n",
    "    else:\n",
    "        return print('Use valid variable option, help(gridded_SOCCOM_floats) for options')\n",
    "    \n",
    "    \n",
    "    \n",
    "    soccom_tracer_linear = xr.DataArray(np.empty((len(float_file.N_PROF), len(interp_depths))),coords = [float_file.N_PROF,interp_depths],dims = ['N_PROF','depth'])\n",
    "    soccom_tracer_nearest = xr.DataArray(np.empty((len(float_file.N_PROF), len(interp_depths))),coords = [float_file.N_PROF,interp_depths],dims = ['N_PROF','depth'])\n",
    "    soccom_tracer_cubic = xr.DataArray(np.empty((len(float_file.N_PROF), len(interp_depths))),coords = [float_file.N_PROF,interp_depths],dims = ['N_PROF','depth'])\n",
    "    soccom_tracer_quad = xr.DataArray(np.empty((len(float_file.N_PROF), len(interp_depths))),coords = [float_file.N_PROF,interp_depths],dims = ['N_PROF','depth'])\n",
    "\n",
    "    soccom_tracer_linear[:,:] = np.nan\n",
    "    soccom_tracer_nearest[:,:] = np.nan\n",
    "    soccom_tracer_cubic[:,:] = np.nan\n",
    "    soccom_tracer_quad[:,:] = np.nan\n",
    "    \n",
    "    for i in range(len(float_file.N_PROF)):\n",
    "        tracer_i = tracer.isel(N_PROF =i)\n",
    "        tracer_i.coords['N_LEVELS'] = float_file.Depth.isel(N_PROF =i).values\n",
    "        tracer_i = tracer_i.rename({'N_LEVELS':'depth'})\n",
    "        tracer_i=tracer_i.where(np.abs(tracer_i)>0,drop = True ) # remove nans, they muck up interpolation\n",
    "        tracer_i = tracer_i.where(np.abs(tracer_i.depth)>0,drop = True ) #nans aren't removed by uniqueness filter below\n",
    "        _, unique_depth_index = np.unique(tracer_i.depth, return_index=True) # remove repeat depth measurements, again, they muck up interpolation (they don't seem to be common, I'm not concerned by removing)\n",
    "        tracer_i = tracer_i.isel(depth = unique_depth_index)\n",
    "        if len(tracer_i.depth) > 10: # you can alter this threshold, just needs to be at least 3 otherwise the interpolation methods fail\n",
    "            soccom_tracer_linear[i,:] = tracer_i.interp(depth = interp_depths, method = 'linear')\n",
    "            soccom_tracer_cubic[i,:] = tracer_i.interp(depth = interp_depths, method = 'cubic')\n",
    "            soccom_tracer_nearest[i,:] = tracer_i.interp(depth = interp_depths, method = 'nearest')\n",
    "            soccom_tracer_quad[i,:] = tracer_i.interp(depth = interp_depths, method = 'quadratic')\n",
    "        else: \n",
    "            fill = np.empty((len(interp_depths)))\n",
    "            fill[:] = np.nan\n",
    "            soccom_tracer_linear[i,:] = fill\n",
    "            soccom_tracer_cubic[i,:] = fill\n",
    "            soccom_tracer_nearest[i,:] = fill\n",
    "            soccom_tracer_quad[i,:] = fill\n",
    "                \n",
    "    count = len(float_file.N_PROF)\n",
    "    \n",
    "    ############################################ gather data from all floats #########################################\n",
    "    for j in range(1,len(float_names)):\n",
    "        float_file = xr.open_dataset(float_dir+float_names[j])\n",
    "\n",
    "        ## record lat, lon, name, time\n",
    "        float_lons = np.append(float_lons, float_file.Lon.values)\n",
    "        float_lats = np.append(float_lats, float_file.Lat.values)\n",
    "        float_times = np.append(float_times, float_file.JULD.values)\n",
    "        float_nc_j = np.zeros(len(float_file.Lon.values)).astype('str')\n",
    "        float_nc_j[:] = float_names[j]\n",
    "        float_nc = np.append(float_nc, float_nc_j)\n",
    "\n",
    "        if variable == 'Temperature':\n",
    "            tracer = float_file.Temperature\n",
    "            units = tracer.units\n",
    "            QC_mask = float_file.Temperature_QFA.where(float_file.Temperature_QFA ==0)+1 # code 0 is QC approved data\n",
    "            tracer = tracer * QC_mask\n",
    "        elif variable == 'Salinity':\n",
    "            tracer = float_file.Salinity\n",
    "            units = tracer.units\n",
    "            QC_mask = float_file.Salinity_QFA.where(float_file.Salinity_QFA ==0)+1 \n",
    "            tracer = tracer * QC_mask\n",
    "        elif variable == 'Sigma_theta':\n",
    "            tracer = float_file.Sigma_theta\n",
    "            units = tracer.units\n",
    "            QC_mask = float_file.Sigma_theta_QFA.where(float_file.Sigma_theta_QFA ==0)+1 \n",
    "            tracer = tracer * QC_mask\n",
    "        elif variable == 'Oxygen':\n",
    "            tracer = float_file.Oxygen\n",
    "            units = tracer.units\n",
    "            QC_mask = float_file.Oxygen_QFA.where(float_file.Oxygen_QFA ==0)+1 \n",
    "            tracer = tracer * QC_mask\n",
    "        elif variable == 'Nitrate':\n",
    "            tracer = float_file.Nitrate\n",
    "            units = tracer.units\n",
    "            QC_mask = float_file.Nitrate_QFA.where(float_file.Nitrate_QFA ==0)+1 \n",
    "            tracer = tracer * QC_mask\n",
    "            tracer = tracer.where(tracer >0) # there were negative concentrations, unsure how this wasn't picked up in the QC flag \n",
    "        elif variable == 'Chl_a':\n",
    "            tracer = float_file.Chl_a\n",
    "            units = tracer.units\n",
    "            QC_mask = float_file.Chl_a_QFA.where(float_file.Chl_a_QFA ==0)+1 \n",
    "            tracer = tracer * QC_mask\n",
    "        elif variable == 'POC':\n",
    "            tracer = float_file.POC\n",
    "            units = tracer.units\n",
    "            QC_mask = float_file.POC_QFA.where(float_file.POC_QFA ==0)+1 \n",
    "            tracer = tracer * QC_mask\n",
    "        elif variable == 'TALK':\n",
    "            tracer = float_file.TALK_LIAR\n",
    "            units = tracer.units\n",
    "            QC_mask = float_file.TALK_LIAR_QFA.where(float_file.TALK_LIAR_QFA ==0)+1 \n",
    "            tracer = tracer * QC_mask\n",
    "        elif variable == 'DIC':\n",
    "            tracer = float_file.DIC_LIAR\n",
    "            units = tracer.units\n",
    "            QC_mask = float_file.DIC_LIAR_QFA.where(float_file.DIC_LIAR_QFA ==0)+1 \n",
    "            tracer = tracer * QC_mask\n",
    "        else:\n",
    "            return print('Use valid variable option, help(gridded_SOCCOM_floats) for options')\n",
    "        \n",
    "        \n",
    "        tracer_linear = xr.DataArray(np.empty((len(float_file.N_PROF), len(interp_depths))),coords = [float_file.N_PROF,interp_depths],dims = ['N_PROF','depth'])\n",
    "        tracer_nearest = xr.DataArray(np.empty((len(float_file.N_PROF), len(interp_depths))),coords = [float_file.N_PROF,interp_depths],dims = ['N_PROF','depth'])\n",
    "        tracer_cubic = xr.DataArray(np.empty((len(float_file.N_PROF), len(interp_depths))),coords = [float_file.N_PROF,interp_depths],dims = ['N_PROF','depth'])\n",
    "        tracer_quad = xr.DataArray(np.empty((len(float_file.N_PROF), len(interp_depths))),coords = [float_file.N_PROF,interp_depths],dims = ['N_PROF','depth'])\n",
    "        \n",
    "        tracer_linear[:,:] = np.nan\n",
    "        tracer_nearest[:,:] = np.nan\n",
    "        tracer_cubic[:,:] = np.nan\n",
    "        tracer_quad[:,:] = np.nan\n",
    "        \n",
    "        for i in range(len(float_file.N_PROF)):\n",
    "            tracer_i = tracer.isel(N_PROF =i)\n",
    "            tracer_i.coords['N_LEVELS'] = float_file.Depth.isel(N_PROF =i).values\n",
    "            tracer_i = tracer_i.rename({'N_LEVELS':'depth'})\n",
    "            tracer_i=tracer_i.where(np.abs(tracer_i)>0,drop = True ) # remove nans, they muck up interpolation\n",
    "            tracer_i = tracer_i.where(np.abs(tracer_i.depth)>0,drop = True ) #nans aren't removed by uniqueness filter below and non uniqueness interferes with the interpolation protocol\n",
    "            _, unique_depth_index = np.unique(tracer_i.depth, return_index=True) # remove repeat depth measurements, again, they muck up interpolation (they don't seem to be common, I'm not concerned by removing)\n",
    "            tracer_i = tracer_i.isel(depth = unique_depth_index)\n",
    "            if len(tracer_i.depth) > 10:\n",
    "                tracer_linear[i,:] = tracer_i.interp(depth = interp_depths, method = 'linear')\n",
    "                tracer_cubic[i,:] = tracer_i.interp(depth = interp_depths, method = 'cubic')\n",
    "                tracer_nearest[i,:] = tracer_i.interp(depth = interp_depths, method = 'nearest')\n",
    "                tracer_quad[i,:] = tracer_i.interp(depth = interp_depths, method = 'quadratic')\n",
    "            else: ## there were a few profiles that had a tiny number of measurements. These data are questionable and hard to interpolate so I just threw them out\n",
    "                fill = np.empty((len(interp_depths)))\n",
    "                fill[:] = np.nan\n",
    "                tracer_linear[i,:] = fill\n",
    "                tracer_cubic[i,:] = fill\n",
    "                tracer_nearest[i,:] = fill\n",
    "                tracer_quad[i,:] = fill\n",
    "            \n",
    "        tracer_linear.coords['N_PROF'] = tracer_linear.N_PROF.values + count\n",
    "        tracer_cubic.coords['N_PROF'] = tracer_cubic.N_PROF.values + count\n",
    "        tracer_nearest.coords['N_PROF'] = tracer_nearest.N_PROF.values + count\n",
    "        tracer_quad.coords['N_PROF'] = tracer_quad.N_PROF.values + count   \n",
    "        count = count + len(float_file.N_PROF)\n",
    "        \n",
    "        soccom_tracer_linear = xr.concat((soccom_tracer_linear, tracer_linear), dim = 'N_PROF')\n",
    "        soccom_tracer_nearest = xr.concat((soccom_tracer_nearest, tracer_nearest), dim = 'N_PROF')\n",
    "        soccom_tracer_cubic = xr.concat((soccom_tracer_cubic, tracer_cubic), dim = 'N_PROF')\n",
    "        soccom_tracer_quad = xr.concat((soccom_tracer_quad, tracer_quad), dim = 'N_PROF')\n",
    "        \n",
    "        \n",
    "        \n",
    "    soccom_lons = xr.DataArray(float_lons, coords = [soccom_tracer_linear.N_PROF], dims = 'N_PROF' )\n",
    "    soccom_lats = xr.DataArray(float_lats, coords = [soccom_tracer_linear.N_PROF], dims = 'N_PROF' )\n",
    "    soccom_times = xr.DataArray(float_times, coords = [soccom_tracer_linear.N_PROF], dims = 'N_PROF' )\n",
    "    soccom_name = xr.DataArray(float_nc, coords = [soccom_tracer_linear.N_PROF], dims = 'N_PROF' )\n",
    "    \n",
    "    soccom_tracer_linear = xr.DataArray(soccom_tracer_linear, coords = {'N_PROF':soccom_tracer_linear.N_PROF.values, 'depth':soccom_tracer_linear.depth.values, 'lat':soccom_lats, 'lon': soccom_lons, 'time': soccom_times, 'float_ncfile': soccom_name})\n",
    "    soccom_tracer_linear.attrs['units']= units\n",
    "    \n",
    "    soccom_tracer_nearest = xr.DataArray(soccom_tracer_nearest, coords = {'N_PROF':soccom_tracer_nearest.N_PROF.values, 'depth':soccom_tracer_nearest.depth.values, 'lat':soccom_lats, 'lon': soccom_lons, 'time': soccom_times, 'float_ncfile': soccom_name})\n",
    "    soccom_tracer_nearest.attrs['units']= units\n",
    "    \n",
    "    soccom_tracer_cubic = xr.DataArray(soccom_tracer_cubic, coords = {'N_PROF':soccom_tracer_cubic.N_PROF.values, 'depth':soccom_tracer_cubic.depth.values, 'lat':soccom_lats, 'lon': soccom_lons, 'time': soccom_times, 'float_ncfile': soccom_name})\n",
    "    soccom_tracer_cubic.attrs['units']= units\n",
    "    \n",
    "    soccom_tracer_quad = xr.DataArray(soccom_tracer_quad, coords = {'N_PROF':soccom_tracer_quad.N_PROF.values, 'depth':soccom_tracer_quad.depth.values, 'lat':soccom_lats, 'lon': soccom_lons, 'time': soccom_times, 'float_ncfile': soccom_name})\n",
    "    soccom_tracer_quad.attrs['units']= units\n",
    "    \n",
    "    return soccom_tracer_linear, soccom_tracer_nearest, soccom_tracer_cubic, soccom_tracer_quad\n"
   ]
  },
  {
   "cell_type": "code",
   "execution_count": 14,
   "metadata": {},
   "outputs": [],
   "source": [
    "soccom_temp_linear, soccom_temp_nearest, soccom_temp_cubic, soccom_temp_quad = interpolated_SOCCOM_floats('Temperature', interp_depths = np.linspace(2000,0,2001), float_dir = LR_SOCCOM_dir, float_names = float_names)"
   ]
  },
  {
   "cell_type": "code",
   "execution_count": 16,
   "metadata": {},
   "outputs": [
    {
     "data": {
      "text/html": [
       "<pre>&lt;xarray.DataArray (N_PROF: 14500, depth: 2001)&gt;\n",
       "array([[nan, nan, nan, ..., nan, nan, nan],\n",
       "       [nan, nan, nan, ..., nan, nan, nan],\n",
       "       [nan, nan, nan, ..., nan, nan, nan],\n",
       "       ...,\n",
       "       [nan, nan, nan, ..., nan, nan, nan],\n",
       "       [nan, nan, nan, ..., nan, nan, nan],\n",
       "       [nan, nan, nan, ..., nan, nan, nan]])\n",
       "Coordinates:\n",
       "  * N_PROF        (N_PROF) int64 0 1 2 3 4 5 ... 14495 14496 14497 14498 14499\n",
       "  * depth         (depth) float64 2e+03 1.999e+03 1.998e+03 ... 2.0 1.0 0.0\n",
       "    lat           (N_PROF) float64 -39.25 -39.36 -39.42 ... -29.05 -29.02 -29.07\n",
       "    lon           (N_PROF) float64 11.35 11.21 10.98 10.69 ... 252.8 252.6 252.6\n",
       "    time          (N_PROF) datetime64[ns] 2014-12-05T21:50:59.999998720 ... 2020-03-04T02:31:59.999999488\n",
       "    float_ncfile  (N_PROF) &lt;U32 &#x27;0037SOOCNQC.nc&#x27; ... &#x27;9766SOOCNQC.nc&#x27;\n",
       "Attributes:\n",
       "    units:    degree_C</pre>"
      ],
      "text/plain": [
       "<xarray.DataArray (N_PROF: 14500, depth: 2001)>\n",
       "array([[nan, nan, nan, ..., nan, nan, nan],\n",
       "       [nan, nan, nan, ..., nan, nan, nan],\n",
       "       [nan, nan, nan, ..., nan, nan, nan],\n",
       "       ...,\n",
       "       [nan, nan, nan, ..., nan, nan, nan],\n",
       "       [nan, nan, nan, ..., nan, nan, nan],\n",
       "       [nan, nan, nan, ..., nan, nan, nan]])\n",
       "Coordinates:\n",
       "  * N_PROF        (N_PROF) int64 0 1 2 3 4 5 ... 14495 14496 14497 14498 14499\n",
       "  * depth         (depth) float64 2e+03 1.999e+03 1.998e+03 ... 2.0 1.0 0.0\n",
       "    lat           (N_PROF) float64 -39.25 -39.36 -39.42 ... -29.05 -29.02 -29.07\n",
       "    lon           (N_PROF) float64 11.35 11.21 10.98 10.69 ... 252.8 252.6 252.6\n",
       "    time          (N_PROF) datetime64[ns] 2014-12-05T21:50:59.999998720 ... 2020-03-04T02:31:59.999999488\n",
       "    float_ncfile  (N_PROF) <U32 '0037SOOCNQC.nc' ... '9766SOOCNQC.nc'\n",
       "Attributes:\n",
       "    units:    degree_C"
      ]
     },
     "execution_count": 16,
     "metadata": {},
     "output_type": "execute_result"
    }
   ],
   "source": [
    "soccom_temp_linear"
   ]
  },
  {
   "cell_type": "code",
   "execution_count": 25,
   "metadata": {},
   "outputs": [
    {
     "data": {
      "image/png": "[encoded data removed]",
      "text/plain": [
       "<Figure size 504x720 with 1 Axes>"
      ]
     },
     "metadata": {
      "needs_background": "light"
     },
     "output_type": "display_data"
    },
    {
     "data": {
      "image/png": "[encoded data removed]",
      "text/plain": [
       "<Figure size 504x720 with 1 Axes>"
      ]
     },
     "metadata": {
      "needs_background": "light"
     },
     "output_type": "display_data"
    }
   ],
   "source": [
    "plt.figure(figsize = (7,10))\n",
    "ax = plt.subplot()\n",
    "ax.plot(soccom_temp_linear.sel(N_PROF = 0).values, soccom_temp_linear.depth, 'k-', label = 'Linear')\n",
    "ax.plot(soccom_temp_nearest.sel(N_PROF = 0).values, soccom_temp_nearest.depth, 'b-', label = 'Nearest')\n",
    "ax.plot(soccom_temp_quad.sel(N_PROF = 0).values, soccom_temp_quad.depth, 'r-', label = 'quad')\n",
    "ax.plot(soccom_temp_cubic.sel(N_PROF = 0).values, soccom_temp_cubic.depth, 'g-', label = 'cubic')\n",
    "ax.set_ylim([2000,0])\n",
    "ax.legend(loc = 0)\n",
    "plt.show()\n",
    "plt.figure(figsize = (7,10))\n",
    "ax = plt.subplot()\n",
    "ax.plot(soccom_temp_linear.sel(N_PROF = 0).values, soccom_temp_linear.depth, 'k-', alpha = 0.4,label = 'Linear')\n",
    "ax.plot(soccom_temp_nearest.sel(N_PROF = 0).values, soccom_temp_nearest.depth, 'b-', alpha = 0.4,label = 'Nearest')\n",
    "ax.plot(soccom_temp_quad.sel(N_PROF = 0).values, soccom_temp_quad.depth, 'r-', alpha = 0.4,label = 'quad')\n",
    "ax.plot(soccom_temp_cubic.sel(N_PROF = 0).values, soccom_temp_cubic.depth, 'g-', alpha = 0.4,label = 'cubic')\n",
    "ax.set_ylim([100,0])\n",
    "ax.set_xlim([10,17])\n",
    "ax.legend(loc = 0)\n",
    "\n",
    "plt.show()"
   ]
  },
  {
   "cell_type": "code",
   "execution_count": 26,
   "metadata": {},
   "outputs": [],
   "source": [
    "ds = xr.Dataset({'linear':soccom_temp_linear, 'nearest': soccom_temp_nearest, 'cubic':soccom_temp_cubic, 'quad': soccom_temp_quad})\n",
    "ds.attrs['description'] = 'All float Temperature interpolated onto a 1m vertical grid using linear, nearest neighbour, cublic spline and quadratic spline interpolation methods'\n",
    "#ds.to_netcdf() # save it someplace"
   ]
  },
  {
   "cell_type": "markdown",
   "metadata": {},
   "source": [
    "Note: sometimes the spline interpolation methods have instabilities, you should QC those interpolations."
   ]
  },
  {
   "cell_type": "code",
   "execution_count": null,
   "metadata": {},
   "outputs": [],
   "source": []
  }
 ],
 "metadata": {
  "kernelspec": {
   "display_name": "Python 3",
   "language": "python",
   "name": "python3"
  },
  "language_info": {
   "codemirror_mode": {
    "name": "ipython",
    "version": 3
   },
   "file_extension": ".py",
   "mimetype": "text/x-python",
   "name": "python",
   "nbconvert_exporter": "python",
   "pygments_lexer": "ipython3",
   "version": "3.7.6"
  }
 },
 "nbformat": 4,
 "nbformat_minor": 4
}
